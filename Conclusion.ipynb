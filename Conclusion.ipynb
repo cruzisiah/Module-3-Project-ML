{
 "cells": [
  {
   "cell_type": "markdown",
   "metadata": {},
   "source": [
    "## I. Overview"
   ]
  },
  {
   "cell_type": "markdown",
   "metadata": {},
   "source": [
    "- **Student name:** Isiah Cruz\n",
    "- **Student pace:** Part-Time\n",
    "- **Flatiron project review date:** August 24, 2020\n",
    "- **Instructor name:** Eli Thomas\n",
    "- **Module:** 3\n",
    "\n",
    "\n",
    "- **Dataset:** Telecom Churn Dataset\n",
    "    - https://www.kaggle.com/becksddf/churn-in-telecoms-dataset"
   ]
  },
  {
   "cell_type": "markdown",
   "metadata": {},
   "source": [
    "## II. Results"
   ]
  },
  {
   "cell_type": "markdown",
   "metadata": {},
   "source": [
    "**Model to use:** GridSearch CV - Random Forest\n",
    "\n",
    "**Business Implications:** \n",
    "   - Pricing - Syriatel should evaluate the cost of daytime minutes since we detected a significant correlation between how much customer were charged for daytime calls and churn.\n",
    "   \n",
    "   \n",
    "   - Customer service - Syriatel should invest more heavily into customer service, particularly conflict resolution since we identified a strong linkage between a relatively high number of customer service calls and churn.\n",
    "   \n",
    "   \n",
    "   - Voicemail - Syriatel should conduct a thorough look at voicemail, particularly since this seems to be an important features for customers and we discovered a connection between churned customers and voicemail plans.\n",
    "   \n",
    "**Future Work:** \n",
    "   - Market Research - Setup calls with churned and current customers to get a better sense of what they do and do not desire in the product\n",
    "   - Competitive Research - Take a deep look at competitor pricing, particularly for daytime phone service since it seems churned customers are finding viable alternatives"
   ]
  }
 ],
 "metadata": {
  "kernelspec": {
   "display_name": "Python 3",
   "language": "python",
   "name": "python3"
  },
  "language_info": {
   "codemirror_mode": {
    "name": "ipython",
    "version": 3
   },
   "file_extension": ".py",
   "mimetype": "text/x-python",
   "name": "python",
   "nbconvert_exporter": "python",
   "pygments_lexer": "ipython3",
   "version": "3.6.9"
  }
 },
 "nbformat": 4,
 "nbformat_minor": 2
}
