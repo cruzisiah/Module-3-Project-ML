{
 "cells": [
  {
   "cell_type": "markdown",
   "metadata": {},
   "source": [
    "## I. Overview"
   ]
  },
  {
   "cell_type": "markdown",
   "metadata": {},
   "source": [
    "- **Student name:** Isiah Cruz\n",
    "- **Student pace:** Part-Time\n",
    "- **Flatiron project review date:** August 24, 2020\n",
    "- **Instructor name:** Eli Thomas\n",
    "- **Module:** 3\n",
    "\n",
    "\n",
    "- **Dataset:** Telecom Churn Dataset\n",
    "    - https://www.kaggle.com/becksddf/churn-in-telecoms-dataset"
   ]
  },
  {
   "cell_type": "markdown",
   "metadata": {},
   "source": [
    "## II. Project & Problem Statement"
   ]
  },
  {
   "cell_type": "markdown",
   "metadata": {},
   "source": [
    "Build a classifier to predict whether a customer will (\"soon\") stop doing business with SyriaTel, a telecommunications company. Note that this is a binary classification problem.\n",
    "\n",
    "Most naturally, your audience here would be the telecom business itself, interested in losing money on customers who don't stick around very long. Are there any predictable patterns here?"
   ]
  },
  {
   "cell_type": "markdown",
   "metadata": {},
   "source": [
    "## III. Repository Contents"
   ]
  },
  {
   "cell_type": "markdown",
   "metadata": {},
   "source": [
    "- **1) Dataset:** 'bigml_59c28831336c6604c800002a 2.csv'\n",
    "- **2) Project:** 'Mod 3_Project.ipynb'"
   ]
  },
  {
   "cell_type": "markdown",
   "metadata": {},
   "source": [
    "## IV. Project Contents"
   ]
  },
  {
   "cell_type": "markdown",
   "metadata": {},
   "source": [
    "- **1) Project:** Overview of the project (i.e. Kaggle dataset, student owner, project review date, etc)\n",
    "- **2) Importing:** Importing the dataset & relevant programming packages\n",
    "- **3) Data Cleaning:** Cleaning the dataset (i.e. removing duplicates, correcting inconsistencies, selecting only the data relevant for our analysis, etc)\n",
    "- **4) Data Exploration:** Examining & visualizing the dataset (i.e. graphs, correlation charts, sorting, etc)\n",
    "- **5) Machine Learning (ML) Model Pre-Processing:** Producing a vanila ML to accurately measure improvement\n",
    "- **6) ML Models:** Producing ML models to predict churn\n",
    "- **7) Evaluation:** Analyzing our model results and selecting the best model\n",
    "- **8) Conclusion:** Making business recommendations and describing our favorite model"
   ]
  }
 ],
 "metadata": {
  "kernelspec": {
   "display_name": "Python 3",
   "language": "python",
   "name": "python3"
  },
  "language_info": {
   "codemirror_mode": {
    "name": "ipython",
    "version": 3
   },
   "file_extension": ".py",
   "mimetype": "text/x-python",
   "name": "python",
   "nbconvert_exporter": "python",
   "pygments_lexer": "ipython3",
   "version": "3.6.9"
  }
 },
 "nbformat": 4,
 "nbformat_minor": 2
}
